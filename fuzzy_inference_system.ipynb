{
 "cells": [
  {
   "cell_type": "markdown",
   "metadata": {},
   "source": [
    "# Fuzzy Inference Systems"
   ]
  },
  {
   "cell_type": "markdown",
   "metadata": {},
   "source": [
    "## A. Fuzzy inference systems"
   ]
  },
  {
   "cell_type": "markdown",
   "metadata": {},
   "source": [
    "A fuzzy system is a repository of fuzzy expert knowledge that can reason data in vague terms instead of precise Boolean logic. The basic configuration of a fuzzy system is shown as:\n",
    "\n",
    "![](figures/1*ArAJV83q01pz2thVR9yHNw.jpeg)\n",
    "\n",
    "A typical fuzzy system can be split into four main parts, namely **fuzzifier**, **knowledge base**, **inference engine** and **defuzzifier**.\n",
    "\n",
    "1. The **fuzzifier** maps a real crisp input to a fuzzy function, therefore determining the ‘degree of membership’ of the input to a vague concept. In a number of controllers, the values of the input variables are mapped to the range of values of the corresponding universe of discourse. The range and resolution of input-fuzzy sets and their effect on the fuzzification process are considered as factors affecting the overall performance of the controller.\n",
    "\n",
    "2. The **knowledge base** comprises the knowledge of the application domain and the attendant control goals. It can be split into a database of **definitions** used to express linguistic control rules in the controller, and a **rule base** that describes the knowledge held by the experts of the domain. Intuitively, the knowledge base is the core element of a fuzzy controller as it will contain all the information necessary to accomplish its execution tasks. Various researchers have applied techniques to fine-tune a fuzzy controller’s knowledge base, such as Genetic Algorithms, or neural networks\n",
    "\n",
    "3. The **Inference Engine** provides the decision-making logic of the controller. It deduces the fuzzy control actions by employing fuzzy implications and fuzzy rules of inference. In many aspects, it can be viewed as an emulation of human decision-making.\n",
    "\n",
    "4. The **Defuzzification** process converts fuzzy control values into crisp quantities, that is, it links a single point to a fuzzy set, given that the point belongs to the support of the fuzzy set."
   ]
  },
  {
   "cell_type": "markdown",
   "metadata": {},
   "source": [
    "The expert knowledge is a collection of fuzzy membership functions and a set of fuzzy rules, known as the rule-base, having the form:\n",
    "\n",
    "> **IF** `{antecedent clauses}` **THEN** `{consequent clauses}`\n",
    "\n",
    "Thus, a rule will contain several clauses of antecedent type and some clauses of consequent type. Clauses will be of the form:\n",
    "\n",
    "> `{variable name}` **is** `{set name}`\n",
    "\n",
    "For example, we have two clauses, `Tempurature is Low` and `Speed is Slow`. A rule can be constructed based given clauses as below:\n",
    "\n",
    "> **IF** `Tempurature is Low` **THEN** `Speed is Slow`"
   ]
  },
  {
   "cell_type": "markdown",
   "metadata": {},
   "source": [
    "### 1. Mamdani Inference Fuzzy Systems"
   ]
  },
  {
   "cell_type": "markdown",
   "metadata": {},
   "source": [
    "In **Mamdani's inferencing**, the antecedents and consequents of a fuzzy rule are fuzzy sets. The inference is based on **Generalised Modus Ponens**, which states that the degree of truth of the consequent of a fuzzy rule is the degree of truth of the antecedent.\n",
    "\n",
    "In the case where more than one antecedent clause is present, the individual degrees of membership are joined using a min t-norm operator. If the fuzzy system contains several rules, their output is combined using a max s-norm operator. **Defuzzification** is necessary so that the consequent action can be expressed in terms of a crisp value.\n",
    "\n",
    "The graphical representation of this process is shown below:\n",
    "\n",
    "![](figures/1*etBn5hRH1gGvzBEI24x1hA.jpeg)"
   ]
  },
  {
   "cell_type": "markdown",
   "metadata": {},
   "source": [
    "### 2. Takagi-Sugeno inference system"
   ]
  },
  {
   "cell_type": "markdown",
   "metadata": {},
   "source": [
    "In **Takagi-Sugeno inferencing**, the consequents are functions that map crisp input values to the rule’s crisp output. Hence, fuzzy rules are of the form:\n",
    "\n",
    "> **IF** `x IS X` **and** `y IS Y` **THEN** `z=f(x,y)`\n",
    "\n",
    "where f is generally a linear function in X and Y.\n",
    "\n",
    "In contrast to Mamdani's fuzzy systems, the rules are not combined using a max -operator but are combined by finding a weighted average, where the weight of a given rule is the degree of membership of its antecedent. Therefore, Takagi-Sugeno systems do not require any defuzzification."
   ]
  },
  {
   "cell_type": "markdown",
   "metadata": {},
   "source": [
    "## B. Mamdani Fuzzy System Implementation"
   ]
  },
  {
   "cell_type": "markdown",
   "metadata": {},
   "source": [
    "The design of Fuzzy Inference Systems is based on several considerations:\n",
    "* A Fuzzy Inference System will require **input** and **output** variables and a collection of **fuzzy rules**.\n",
    "* Both input and output variables will contain a collection of fuzzy sets if the Fuzzy Inference System is of **Mamdani type**.\n",
    "* Input and output variables are very similar, but they are used differently by fuzzy rules. During execution, input variables use the input values to the system to fuzzify their sets, that is they determine the degree of belonging of that input value to all the fuzzy sets of the variable. Each rule contributes to some extent to the output variables; the totality of this contribution will determine the output of the system."
   ]
  },
  {
   "cell_type": "markdown",
   "metadata": {},
   "source": [
    "The Fuzzy System architecture is design into `FuzzySystem` class, which is formed from subclass components:\n",
    "1. `FuzzySet` class: define a set of elements have degrees of membership.\n",
    "2. `FuzzyVariable` class: define the language that will be used to discuss a fuzzy concept, e.g. temperature, pressure, etc. variables can be of **input** and **output** in type.\n",
    "    2.a. `FuzzyVariableInput` class: having `fuzzify` method to fuzzify the variable\n",
    "    2.b. `FuzzyVariableOutput` class.\n",
    "3. `FuzzyClause` class: define the clauses for fuzzy rules from fuzzy variable and fuzzy set.\n",
    "4. `FuzzyRule` class: define the fuzzy rules."
   ]
  },
  {
   "cell_type": "markdown",
   "metadata": {},
   "source": [
    "## C. Implementation Exercise"
   ]
  },
  {
   "cell_type": "markdown",
   "metadata": {},
   "source": [
    "The exercise requires you to complete the methods that having **TODO** requirement in `FuzzySystem`, `FuzzyRule`, `FuzzyVariable` classes in the corresponding `*.py` files in `fuzzy_system` folder."
   ]
  },
  {
   "cell_type": "markdown",
   "metadata": {},
   "source": [
    "After completing the implementation requirement, try the implement the example below"
   ]
  },
  {
   "cell_type": "code",
   "execution_count": 1,
   "metadata": {
    "pycharm": {
     "name": "#%%\n"
    }
   },
   "outputs": [],
   "source": [
    "from fuzzy_system import FuzzyVariableInput, FuzzyVariableOutput, FuzzySystem"
   ]
  },
  {
   "cell_type": "markdown",
   "metadata": {},
   "source": [
    "This example is constructed to control speed of fan according to the environment's temperature and humidity.\n",
    "\n",
    "![](figures/1*NIUbpQp93_OFBKM_dYJQvg.jpeg)"
   ]
  },
  {
   "cell_type": "markdown",
   "metadata": {},
   "source": [
    "The first step in the design of our system is to define fuzzy sets to describe the input and output variables. There are three fuzzy sets:\n",
    "\n",
    "> Temperature: Cold, Medium, Hot\n",
    ">\n",
    "> Humidity: Dry, Normal, Wet\n",
    ">\n",
    "> Fan speed: Slow, Moderate, Fast\n",
    "\n",
    "The diagram below shows a graphical representation of the input and output variables of our system and their respective sets.\n",
    "\n",
    "![](figures/1*QgzU5OF0uGucga5d1nzdig.jpeg)"
   ]
  },
  {
   "cell_type": "markdown",
   "metadata": {},
   "source": [
    "The first step in the design of our system is to define fuzzy sets to describe the input and output variables."
   ]
  },
  {
   "cell_type": "code",
   "execution_count": 2,
   "metadata": {
    "pycharm": {
     "name": "#%%\n"
    }
   },
   "outputs": [
    {
     "name": "stderr",
     "output_type": "stream",
     "text": [
      "c:\\Users\\william\\OneDrive\\桌面\\學校上課檔案\\智慧系統理論與實務\\codeworks\\ME5061-Intelligent-Systems-Theory-and-Practice-master\\ME5061-Intelligent-Systems-Theory-and-Practice-master\\assignment-2\\fuzzy_system\\fuzzy_set.py:137: RuntimeWarning: invalid value encountered in double_scalars\n",
      "  t1fs.dom[i]=(nox-a)/(m-a)\n"
     ]
    },
    {
     "data": {
      "text/plain": [
       "<fuzzy_system.fuzzy_set.FuzzySet at 0x22ef5716400>"
      ]
     },
     "execution_count": 2,
     "metadata": {},
     "output_type": "execute_result"
    }
   ],
   "source": [
    "# Define the temperature variable with its fuzzy set\n",
    "temp = FuzzyVariableInput('Temperature',10,40,100)\n",
    "temp.add_triangular('Cold',10,10,25)\n",
    "temp.add_triangular('Medium',15,25,35)\n",
    "temp.add_triangular('Hot',25,40,40)\n",
    "\n",
    "#print(type(temp))"
   ]
  },
  {
   "cell_type": "code",
   "execution_count": 3,
   "metadata": {
    "pycharm": {
     "name": "#%%\n"
    }
   },
   "outputs": [
    {
     "data": {
      "text/plain": [
       "\"\\ncpu_clockrate=FuzzyVariableInput('CPU_frequency',20,100,100)\\ncpu_clockrate.add_triangular('Low',20,20,60)\\ncpu_clockrate.add_triangular('High',50,100,100)\\n\""
      ]
     },
     "execution_count": 3,
     "metadata": {},
     "output_type": "execute_result"
    }
   ],
   "source": [
    "# TODO: Based on the above graphical representation, please define the Humidity variable and its fuzzy set as the input variable\n",
    "# Write the code below\n",
    "humidity=FuzzyVariableInput('Humidity', 20, 100,100)\n",
    "humidity.add_triangular('Dry',20,20,60)\n",
    "humidity.add_trapezoidal('Normal',30,60,75,90)\n",
    "humidity.add_triangular('Wet',60,100,100)\n",
    "#humidity.plot_variable()\n",
    "'''\n",
    "cpu_clockrate=FuzzyVariableInput('CPU_frequency',20,100,100)\n",
    "cpu_clockrate.add_triangular('Low',20,20,60)\n",
    "cpu_clockrate.add_triangular('High',50,100,100)\n",
    "'''\n"
   ]
  },
  {
   "cell_type": "code",
   "execution_count": 4,
   "metadata": {
    "pycharm": {
     "name": "#%%\n"
    }
   },
   "outputs": [
    {
     "data": {
      "text/plain": [
       "<fuzzy_system.fuzzy_set.FuzzySet at 0x22e9587ec40>"
      ]
     },
     "execution_count": 4,
     "metadata": {},
     "output_type": "execute_result"
    }
   ],
   "source": [
    "# TODO: Based on the above graphical representation, please define the Speed variable and its fuzzy set as the output variable\n",
    "# Write the code below\n",
    "motor_speed=FuzzyVariableOutput('Speed',0,100,100)\n",
    "motor_speed.add_triangular('Slow',0,0,50)\n",
    "motor_speed.add_triangular('Moderate',10,50,90)\n",
    "motor_speed.add_triangular('Fast',50,100,100)\n",
    "#motor_speed.plot_variable()\n",
    "\n",
    "\n",
    "\n",
    "\n",
    "\n",
    "\n"
   ]
  },
  {
   "cell_type": "markdown",
   "metadata": {},
   "source": [
    "Then we construct a fuzzy system, and add defined variables to it."
   ]
  },
  {
   "cell_type": "code",
   "execution_count": 5,
   "metadata": {
    "pycharm": {
     "name": "#%%\n"
    }
   },
   "outputs": [],
   "source": [
    "system = FuzzySystem()\n",
    "system.add_input_variable(temp)\n",
    "system.add_input_variable(humidity)\n",
    "#system.add_input_variable(cpu_clockrate)\n",
    "system.add_output_variable(motor_speed)\n",
    "\n",
    "#FuzzyVariableInput.plot_variable(temp)\n",
    "#FuzzyVariableOutput.plot_variable(motor_speed)\n",
    "#system.get_input_variable(\"Temperature\")\n"
   ]
  },
  {
   "cell_type": "markdown",
   "metadata": {},
   "source": [
    "The next step is to define the rules. A total of nine rules are used to describe the knowledge necessary to operate our fan controller:\n",
    "\n",
    "> IF Temperature is Cold and Humidity is Dry THEN Fan Speed is Slow\n",
    ">\n",
    "> IF Temperature is Medium and Humidity is Dry THEN Fan Speed is Slow\n",
    ">\n",
    "> IF Temperature is Cold and Humidity is Normal THEN Fan Speed is Slow\n",
    ">\n",
    "> IF Temperature is Hot and Humidity is Dry THEN Fan Speed is Moderate\n",
    ">\n",
    "> IF Temperature is Medium and Humidity is Normal THEN Fan Speed is Moderate\n",
    ">\n",
    "> IF Temperature is Cold and Humidity is Wet THEN Fan Speed is Moderate\n",
    ">\n",
    "> IF Temperature is Hot and Humidity is Normal THEN Fan Speed is Fast\n",
    ">\n",
    "> IF Temperature is Hot and Humidity is Wet THEN Fan Speed is Fast\n",
    ">\n",
    "> IF Temperature is Medium and Humidity is Wet THEN Fan Speed is Fast\n",
    "\n"
   ]
  },
  {
   "cell_type": "code",
   "execution_count": 6,
   "metadata": {
    "pycharm": {
     "name": "#%%\n"
    }
   },
   "outputs": [
    {
     "data": {
      "text/plain": [
       "\"\\n\\nsystem.add_rule(antecedent_clauses={'Temperature':'Cold','Humidity':'Dry','CPU_frequency':'Low'},consequent_clauses={'Speed':'Slow'})\\nsystem.add_rule(antecedent_clauses={'Temperature':'Cold','Humidity':'Normal','CPU_frequency':'Low'},consequent_clauses={'Speed':'Slow'})\\nsystem.add_rule(antecedent_clauses={'Temperature':'Cold','Humidity':'Normal','CPU_frequency':'High'},consequent_clauses={'Speed':'Slow'})\\nsystem.add_rule(antecedent_clauses={'Temperature':'Cold','Humidity':'Dry','CPU_frequency':'High'},consequent_clauses={'Speed':'Slow'})\\nsystem.add_rule(antecedent_clauses={'Temperature':'Medium','Humidity':'Dry','CPU_frequency':'Low'},consequent_clauses={'Speed':'Slow'})\\nsystem.add_rule(antecedent_clauses={'Temperature':'Medium','Humidity':'Dry','CPU_frequency':'High'},consequent_clauses={'Speed':'Slow'})\\nsystem.add_rule(antecedent_clauses={'Temperature':'Cold','Humidity':'Wet','CPU_frequency':'Low'},consequent_clauses={'Speed':'Moderate'})\\nsystem.add_rule(antecedent_clauses={'Temperature':'Cold','Humidity':'Wet','CPU_frequency':'High'},consequent_clauses={'Speed':'Moderate'})\\nsystem.add_rule(antecedent_clauses={'Temperature':'Medium','Humidity':'Normal','CPU_frequency':'Low'},consequent_clauses={'Speed':'Moderate'})\\nsystem.add_rule(antecedent_clauses={'Temperature':'Medium','Humidity':'Normal','CPU_frequency':'High'},consequent_clauses={'Speed':'Moderate'})\\nsystem.add_rule(antecedent_clauses={'Temperature':'Medium','Humidity':'Wet','CPU_frequency':'Low'},consequent_clauses={'Speed':'Moderate'})\\nsystem.add_rule(antecedent_clauses={'Temperature':'Hot','Humidity':'Dry','CPU_frequency':'Low'},consequent_clauses={'Speed':'Moderate'})\\nsystem.add_rule(antecedent_clauses={'Temperature':'Medium','Humidity':'Wet','CPU_frequency':'High'},consequent_clauses={'Speed':'Fast'})\\nsystem.add_rule(antecedent_clauses={'Temperature':'Hot','Humidity':'Dry','CPU_frequency':'High'},consequent_clauses={'Speed':'Fast'})\\nsystem.add_rule(antecedent_clauses={'Temperature':'Hot','Humidity':'Normal','CPU_frequency':'Low'},consequent_clauses={'Speed':'Fast'})\\nsystem.add_rule(antecedent_clauses={'Temperature':'Hot','Humidity':'Normal','CPU_frequency':'High'},consequent_clauses={'Speed':'Fast'})\\nsystem.add_rule(antecedent_clauses={'Temperature':'Hot','Humidity':'Wet','CPU_frequency':'Low'},consequent_clauses={'Speed':'Fast'})\\nsystem.add_rule(antecedent_clauses={'Temperature':'Hot','Humidity':'Wet','CPU_frequency':'High'},consequent_clauses={'Speed':'Fast'}) \\n\\n\""
      ]
     },
     "execution_count": 6,
     "metadata": {},
     "output_type": "execute_result"
    }
   ],
   "source": [
    "\n",
    "# TODO: Write the remaining rules and add to the system\n",
    "# Write your code below\n",
    "\n",
    "system.add_rule(antecedent_clauses={'Temperature':'Cold','Humidity':'Dry'},\n",
    "                consequent_clauses={'Speed':'Slow'})\n",
    "system.add_rule(antecedent_clauses={'Temperature':'Medium','Humidity':'Dry'},\n",
    "                consequent_clauses={'Speed':'Slow'})\n",
    "system.add_rule(antecedent_clauses={'Temperature':'Cold','Humidity':'Normal'},\n",
    "                consequent_clauses={'Speed':'Slow'})\n",
    "system.add_rule(antecedent_clauses={'Temperature':'Hot','Humidity':'Dry'},\n",
    "                consequent_clauses={'Speed':'Moderate'})\n",
    "system.add_rule(antecedent_clauses={'Temperature':'Medium','Humidity':'Normal'},\n",
    "                consequent_clauses={'Speed':'Moderate'})\n",
    "system.add_rule(antecedent_clauses={'Temperature':'Cold','Humidity':'Wet'},\n",
    "                consequent_clauses={'Speed':'Moderate'})\n",
    "system.add_rule(antecedent_clauses={'Temperature':'Hot','Humidity':'Normal'},\n",
    "                consequent_clauses={'Speed':'Fast'})\n",
    "system.add_rule(antecedent_clauses={'Temperature':'Hot','Humidity':'Wet'},\n",
    "                consequent_clauses={'Speed':'Fast'})  \n",
    "system.add_rule(antecedent_clauses={'Temperature':'Medium','Humidity':'Wet'},\n",
    "                consequent_clauses={'Speed':'Fast'})   \n",
    "'''\n",
    "\n",
    "system.add_rule(antecedent_clauses={'Temperature':'Cold','Humidity':'Dry','CPU_frequency':'Low'},consequent_clauses={'Speed':'Slow'})\n",
    "system.add_rule(antecedent_clauses={'Temperature':'Cold','Humidity':'Normal','CPU_frequency':'Low'},consequent_clauses={'Speed':'Slow'})\n",
    "system.add_rule(antecedent_clauses={'Temperature':'Cold','Humidity':'Normal','CPU_frequency':'High'},consequent_clauses={'Speed':'Slow'})\n",
    "system.add_rule(antecedent_clauses={'Temperature':'Cold','Humidity':'Dry','CPU_frequency':'High'},consequent_clauses={'Speed':'Slow'})\n",
    "system.add_rule(antecedent_clauses={'Temperature':'Medium','Humidity':'Dry','CPU_frequency':'Low'},consequent_clauses={'Speed':'Slow'})\n",
    "system.add_rule(antecedent_clauses={'Temperature':'Medium','Humidity':'Dry','CPU_frequency':'High'},consequent_clauses={'Speed':'Slow'})\n",
    "system.add_rule(antecedent_clauses={'Temperature':'Cold','Humidity':'Wet','CPU_frequency':'Low'},consequent_clauses={'Speed':'Moderate'})\n",
    "system.add_rule(antecedent_clauses={'Temperature':'Cold','Humidity':'Wet','CPU_frequency':'High'},consequent_clauses={'Speed':'Moderate'})\n",
    "system.add_rule(antecedent_clauses={'Temperature':'Medium','Humidity':'Normal','CPU_frequency':'Low'},consequent_clauses={'Speed':'Moderate'})\n",
    "system.add_rule(antecedent_clauses={'Temperature':'Medium','Humidity':'Normal','CPU_frequency':'High'},consequent_clauses={'Speed':'Moderate'})\n",
    "system.add_rule(antecedent_clauses={'Temperature':'Medium','Humidity':'Wet','CPU_frequency':'Low'},consequent_clauses={'Speed':'Moderate'})\n",
    "system.add_rule(antecedent_clauses={'Temperature':'Hot','Humidity':'Dry','CPU_frequency':'Low'},consequent_clauses={'Speed':'Moderate'})\n",
    "system.add_rule(antecedent_clauses={'Temperature':'Medium','Humidity':'Wet','CPU_frequency':'High'},consequent_clauses={'Speed':'Fast'})\n",
    "system.add_rule(antecedent_clauses={'Temperature':'Hot','Humidity':'Dry','CPU_frequency':'High'},consequent_clauses={'Speed':'Fast'})\n",
    "system.add_rule(antecedent_clauses={'Temperature':'Hot','Humidity':'Normal','CPU_frequency':'Low'},consequent_clauses={'Speed':'Fast'})\n",
    "system.add_rule(antecedent_clauses={'Temperature':'Hot','Humidity':'Normal','CPU_frequency':'High'},consequent_clauses={'Speed':'Fast'})\n",
    "system.add_rule(antecedent_clauses={'Temperature':'Hot','Humidity':'Wet','CPU_frequency':'Low'},consequent_clauses={'Speed':'Fast'})\n",
    "system.add_rule(antecedent_clauses={'Temperature':'Hot','Humidity':'Wet','CPU_frequency':'High'},consequent_clauses={'Speed':'Fast'}) \n",
    "\n",
    "'''\n",
    "                                                                                                        "
   ]
  },
  {
   "cell_type": "markdown",
   "metadata": {},
   "source": []
  },
  {
   "cell_type": "markdown",
   "metadata": {},
   "source": [
    "Inference a example. The output should be 37.2465"
   ]
  },
  {
   "cell_type": "code",
   "execution_count": 7,
   "metadata": {
    "pycharm": {
     "name": "#%%\n"
    }
   },
   "outputs": [
    {
     "name": "stdout",
     "output_type": "stream",
     "text": [
      "last_dom_value 0.4693877551020409\n",
      "last_dom_value 0.0\n",
      "last_dom_value 0.303030303030303\n",
      "last_dom_value 0.0\n",
      "last_dom_value 0.4693877551020409\n",
      "last_dom_value 1.0\n",
      "last_dom_value 0.0\n",
      "last_dom_value 0.0\n",
      "last_dom_value 0.303030303030303\n",
      "last_dom_value 1.0\n",
      "last_dom_value 0.4693877551020409\n",
      "last_dom_value 0.0\n",
      "last_dom_value 0.0\n",
      "last_dom_value 1.0\n",
      "last_dom_value 0.0\n",
      "last_dom_value 0.0\n",
      "last_dom_value 0.303030303030303\n",
      "last_dom_value 0.0\n",
      "0\n",
      "1\n",
      "2\n",
      "3\n",
      "4\n",
      "5\n",
      "6\n",
      "7\n",
      "8\n",
      "9\n",
      "10\n",
      "11\n",
      "12\n",
      "13\n",
      "14\n",
      "15\n",
      "16\n",
      "17\n",
      "18\n",
      "19\n",
      "20\n",
      "21\n",
      "22\n",
      "23\n",
      "24\n",
      "25\n",
      "26\n",
      "27\n",
      "28\n",
      "29\n",
      "30\n",
      "31\n",
      "32\n",
      "33\n",
      "34\n",
      "35\n",
      "36\n",
      "37\n",
      "38\n",
      "39\n",
      "40\n",
      "41\n",
      "42\n",
      "43\n",
      "44\n",
      "45\n",
      "46\n",
      "47\n",
      "48\n",
      "49\n",
      "50\n",
      "51\n",
      "52\n",
      "53\n",
      "54\n",
      "55\n",
      "56\n",
      "57\n",
      "58\n",
      "59\n",
      "60\n",
      "61\n",
      "62\n",
      "63\n",
      "64\n",
      "65\n",
      "66\n",
      "67\n",
      "68\n",
      "69\n",
      "70\n",
      "71\n",
      "72\n",
      "73\n",
      "74\n",
      "75\n",
      "76\n",
      "77\n",
      "78\n",
      "79\n",
      "80\n",
      "81\n",
      "82\n",
      "83\n",
      "84\n",
      "85\n",
      "86\n",
      "87\n",
      "88\n",
      "89\n",
      "90\n",
      "91\n",
      "92\n",
      "93\n",
      "94\n",
      "95\n",
      "96\n",
      "97\n",
      "98\n",
      "99\n"
     ]
    },
    {
     "data": {
      "text/plain": [
       "{'Speed': 37.823656163861024}"
      ]
     },
     "execution_count": 7,
     "metadata": {},
     "output_type": "execute_result"
    }
   ],
   "source": [
    "output = system.evaluate_output(input_values={'Temperature':18, 'Humidity':60})\n",
    "output\n"
   ]
  },
  {
   "cell_type": "code",
   "execution_count": 8,
   "metadata": {
    "pycharm": {
     "name": "#%%\n"
    }
   },
   "outputs": [
    {
     "data": {
      "image/png": "[encoded data removed]",
      "text/plain": [
       "<Figure size 432x288 with 3 Axes>"
      ]
     },
     "metadata": {
      "needs_background": "light"
     },
     "output_type": "display_data"
    }
   ],
   "source": [
    "# print system\n",
    "system.plot_system()"
   ]
  },
  {
   "cell_type": "markdown",
   "metadata": {},
   "source": []
  }
 ],
 "metadata": {
  "kernelspec": {
   "display_name": "Python 3 (ipykernel)",
   "language": "python",
   "name": "python3"
  },
  "language_info": {
   "codemirror_mode": {
    "name": "ipython",
    "version": 3
   },
   "file_extension": ".py",
   "mimetype": "text/x-python",
   "name": "python",
   "nbconvert_exporter": "python",
   "pygments_lexer": "ipython3",
   "version": "3.9.6"
  }
 },
 "nbformat": 4,
 "nbformat_minor": 1
}
